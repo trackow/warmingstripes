{
 "cells": [
  {
   "cell_type": "markdown",
   "metadata": {},
   "source": [
    "# Compute MeltingStripes"
   ]
  },
  {
   "cell_type": "code",
   "execution_count": 2,
   "metadata": {
    "collapsed": true
   },
   "outputs": [],
   "source": [
    "# initial \"melting stripes\" script based on sebastianbeyer's warming script from github (https://github.com/sebastianbeyer/warmingstripes)\n",
    "import numpy as np\n",
    "import matplotlib.pyplot as plt"
   ]
  },
  {
   "cell_type": "markdown",
   "metadata": {},
   "source": [
    "#### load data from DWD"
   ]
  },
  {
   "cell_type": "code",
   "execution_count": null,
   "metadata": {
    "collapsed": true
   },
   "outputs": [],
   "source": [
    "## get data from file\n",
    "## this one is from dwd\n",
    "!wget -nv --mirror --no-host-directories --user=anonymous --password=anonymous -P dwd-warmingstripes ftp://ftp-cdc.dwd.de/pub/CDC/regional_averages_DE/annual/air_temperature_mean/regional_averages_tm_year.txt"
   ]
  },
  {
   "cell_type": "code",
   "execution_count": 4,
   "metadata": {},
   "outputs": [
    {
     "name": "stdout",
     "output_type": "stream",
     "text": [
      "dwd-warmingstripes/pub/CDC/regional_averages_DE/annual/air_temperature_mean/regional_averages_tm_year.txt\r\n"
     ]
    }
   ],
   "source": [
    "ls dwd-warmingstripes/pub/CDC/regional_averages_DE/annual/air_temperature_mean/regional_averages_tm_year.txt"
   ]
  },
  {
   "cell_type": "markdown",
   "metadata": {},
   "source": [
    "###### get data from file (no editing needed, we ditch the column with \"year\" and set delimiter to \";\")"
   ]
  },
  {
   "cell_type": "code",
   "execution_count": 3,
   "metadata": {
    "collapsed": true
   },
   "outputs": [],
   "source": [
    "data = np.loadtxt(\"dwd-warmingstripes/pub/CDC/regional_averages_DE/annual/air_temperature_mean/regional_averages_tm_year.txt\", delimiter=\";\", usecols = (0,2,3,4,5,6,7,8,9,10,11,12,13,14,15,16,17,18), skiprows=2)\n",
    "# Zeitreihen fuer Gebietsmittel fuer Bundeslaender und Kombinationen von Bundeslaender, erstellt am: 20190402\n",
    "\n",
    "#0: Jahr;\n",
    "# skipped 1: Jahr;\n",
    "#1: Brandenburg/Berlin;\n",
    "#2: Brandenburg;\n",
    "#3: Baden-Wuerttemberg;\n",
    "#4: Bayern;\n",
    "#5: Hessen;\n",
    "#6: Mecklenburg-Vorpommern;\n",
    "#7: Niedersachsen;\n",
    "#8: Niedersachsen/Hamburg/Bremen;\n",
    "#9: Nordrhein-Westfalen;\n",
    "#10: Rheinland-Pfalz;\n",
    "#11: Schleswig-Holstein;\n",
    "#12: Saarland;\n",
    "#13: Sachsen;\n",
    "#14: Sachsen-Anhalt;\n",
    "#15: Thueringen/Sachsen-Anhalt;\n",
    "#16: Thueringen;\n",
    "#17: Deutschland;"
   ]
  },
  {
   "cell_type": "code",
   "execution_count": 4,
   "metadata": {},
   "outputs": [
    {
     "data": {
      "text/plain": [
       "array([  7.3,   8.3,   7.9,   8.6,   7.7,   8. ,   7. ,   6.9,   7.4,\n",
       "         7.3,   7.4,   7.5,   7.9,   8.1,   7.3,   7.6,   7.9,   8.5,\n",
       "         8.1,   8.4,   7.6,   7.2,   8.4,   8.4,   8. ,   8.3,   7.8,\n",
       "         7.5,   7.4,   8.4,   9. ,   7.9,   8.5,   8.5,   7.9,   8.4,\n",
       "         7.5,   8.5,   7.3,   8.6,   9. ,   7.2,   8. ,   7.5,   8.3,\n",
       "         8.7,   8. ,   8.3,   7.4,   8.8,   7.6,   8.3,   7.6,   9.5,\n",
       "         8.4,   8.4,   8.6,   8.6,   8.3,   6.6,   7.2,   7.3,   8.9,\n",
       "         8.3,   9. ,   8.4,   8.5,   9. ,   9.1,   8.6,   8.7,   7.9,\n",
       "         8.9,   7.7,   7.5,   6.8,   8.6,   8.2,   9. ,   8.4,   8.9,\n",
       "         7.1,   7.1,   8.1,   7.5,   8.5,   8.9,   8.1,   7.8,   7.7,\n",
       "         8.4,   7.8,   8.2,   8.8,   8.9,   8.5,   8.7,   7.8,   7.7,\n",
       "         7.6,   8.2,   8.9,   9. ,   8. ,   7.4,   7.9,   7.4,   9.1,\n",
       "         9.5,   9.5,   8.3,   9.4,   8.5,   9.7,   8.9,   7.2,   8.9,\n",
       "         9.1,   9.5,   9.9,   9. ,   9.6,   9.4,   8.9,   9. ,   9.5,\n",
       "         9.9,   9.5,   9.2,   7.8,   9.6,   9.1,   8.7,  10.3,   9.9,\n",
       "         9.5,   9.6,  10.5])"
      ]
     },
     "execution_count": 4,
     "metadata": {},
     "output_type": "execute_result"
    }
   ],
   "source": [
    "# Germany\n",
    "data[:,17]"
   ]
  },
  {
   "cell_type": "code",
   "execution_count": 5,
   "metadata": {},
   "outputs": [
    {
     "data": {
      "image/png": "[encoded data removed]",
      "text/plain": [
       "<matplotlib.figure.Figure at 0x7f1f0f427210>"
      ]
     },
     "metadata": {},
     "output_type": "display_data"
    }
   ],
   "source": [
    "temps_bremen = data[:,8]\n",
    "temps_berlin_brandenburg= data[:,1]\n",
    "temps_germany = data[:,17]\n",
    "\n",
    "## stack data to be able to plot them with imshow\n",
    "temps = temps_germany\n",
    "# temps = temps_bremen\n",
    "# temps = temps_berlin_brandenburg\n",
    "\n",
    "stacked_temps = np.stack((temps, temps))\n",
    "\n",
    "vmin = 5.9\n",
    "vmax = 11\n",
    "\n",
    "\n",
    "## plotting\n",
    "###############\n",
    "plt.figure(figsize=(4,18))\n",
    "# img = plt.imshow(stacked_temps, cmap='RdBu_r', aspect=40, vmin=vmin, vmax=vmax)\n",
    "img = plt.imshow(stacked_temps, cmap='RdBu_r', aspect=40, )\n",
    "\n",
    "plt.gca().set_axis_off()\n",
    "plt.subplots_adjust(top = 1, bottom = 0, right = 1, left = 0, hspace = 0, wspace = 0)\n",
    "plt.margins(0,0)\n",
    "plt.gca().xaxis.set_major_locator(plt.NullLocator())\n",
    "plt.gca().yaxis.set_major_locator(plt.NullLocator())\n",
    "\n",
    "plt.show()\n",
    "\n",
    "plt.savefig(\"stripes_germany.png\", bbox_inches = 'tight', pad_inches = 0, dpi=400)"
   ]
  },
  {
   "cell_type": "markdown",
   "metadata": {},
   "source": [
    "### NEW: now let's do the melting stripes"
   ]
  },
  {
   "cell_type": "markdown",
   "metadata": {},
   "source": [
    "#### load NSIDC data"
   ]
  },
  {
   "cell_type": "code",
   "execution_count": 8,
   "metadata": {},
   "outputs": [
    {
     "name": "stdout",
     "output_type": "stream",
     "text": [
      "2019-04-18 11:48:25 URL: ftp://sidads.colorado.edu/DATASETS/NOAA/G02135/north/monthly/data/ [1139] -> \"nsidc-sea-ice-index-2019/DATASETS/NOAA/G02135/north/monthly/data/.listing\" [1]\r\n",
      "BEENDET --2019-04-18 11:48:25--\r\n",
      "Geholt: 1 Dateien, 1,1K in 0s (2122 GB/s)\r\n"
     ]
    }
   ],
   "source": [
    "# Northern Hemisphere\n",
    "!wget -nv --mirror --no-host-directories --user=anonymous --password=anonymous -P nsidc-sea-ice-index-2019 ftp://sidads.colorado.edu/DATASETS/NOAA/G02135/north/monthly/data/ "
   ]
  },
  {
   "cell_type": "code",
   "execution_count": 9,
   "metadata": {},
   "outputs": [
    {
     "name": "stdout",
     "output_type": "stream",
     "text": [
      "2019-04-18 11:48:27 URL: ftp://sidads.colorado.edu/DATASETS/NOAA/G02135/south/monthly/data/ [1139] -> \"nsidc-sea-ice-index-2019/DATASETS/NOAA/G02135/south/monthly/data/.listing\" [1]\r\n",
      "BEENDET --2019-04-18 11:48:27--\r\n",
      "Geholt: 1 Dateien, 1,1K in 0s (2122 GB/s)\r\n"
     ]
    }
   ],
   "source": [
    "# Southern Hemisphere\n",
    "!wget -nv --mirror --no-host-directories --user=anonymous --password=anonymous -P nsidc-sea-ice-index-2019 ftp://sidads.colorado.edu/DATASETS/NOAA/G02135/south/monthly/data/"
   ]
  },
  {
   "cell_type": "code",
   "execution_count": 10,
   "metadata": {},
   "outputs": [
    {
     "name": "stdout",
     "output_type": "stream",
     "text": [
      "N_01_extent_v3.0.csv  N_05_extent_v3.0.csv  N_09_extent_v3.0.csv\n",
      "N_02_extent_v3.0.csv  N_06_extent_v3.0.csv  N_10_extent_v3.0.csv\n",
      "N_03_extent_v3.0.csv  N_07_extent_v3.0.csv  N_11_extent_v3.0.csv\n",
      "N_04_extent_v3.0.csv  N_08_extent_v3.0.csv  N_12_extent_v3.0.csv\n",
      "S_01_extent_v3.0.csv  S_05_extent_v3.0.csv  S_09_extent_v3.0.csv\n",
      "S_02_extent_v3.0.csv  S_06_extent_v3.0.csv  S_10_extent_v3.0.csv\n",
      "S_03_extent_v3.0.csv  S_07_extent_v3.0.csv  S_11_extent_v3.0.csv\n",
      "S_04_extent_v3.0.csv  S_08_extent_v3.0.csv  S_12_extent_v3.0.csv\n"
     ]
    }
   ],
   "source": [
    "!ls nsidc-sea-ice-index-2019/DATASETS/NOAA/G02135/north/monthly/data/\n",
    "!ls nsidc-sea-ice-index-2019/DATASETS/NOAA/G02135/south/monthly/data/"
   ]
  },
  {
   "cell_type": "markdown",
   "metadata": {},
   "source": [
    "##### start with Arctic September sea ice extent"
   ]
  },
  {
   "cell_type": "code",
   "execution_count": 11,
   "metadata": {},
   "outputs": [
    {
     "name": "stdout",
     "output_type": "stream",
     "text": [
      "year, mo,    data-type, region, extent,   area\r\n",
      "1979,  9,      Goddard,      N,   7.05,   4.58\r\n",
      "1980,  9,      Goddard,      N,   7.67,   4.87\r\n",
      "1981,  9,      Goddard,      N,   7.14,   4.44\r\n",
      "1982,  9,      Goddard,      N,   7.30,   4.43\r\n",
      "1983,  9,      Goddard,      N,   7.39,   4.70\r\n",
      "1984,  9,      Goddard,      N,   6.81,   4.11\r\n",
      "1985,  9,      Goddard,      N,   6.70,   4.23\r\n",
      "1986,  9,      Goddard,      N,   7.41,   4.72\r\n",
      "1987,  9,      Goddard,      N,   7.28,   5.64\r\n",
      "1988,  9,      Goddard,      N,   7.37,   5.36\r\n",
      "1989,  9,      Goddard,      N,   7.01,   4.86\r\n",
      "1990,  9,      Goddard,      N,   6.14,   4.55\r\n",
      "1991,  9,      Goddard,      N,   6.47,   4.51\r\n",
      "1992,  9,      Goddard,      N,   7.47,   5.43\r\n",
      "1993,  9,      Goddard,      N,   6.40,   4.58\r\n",
      "1994,  9,      Goddard,      N,   7.14,   5.13\r\n",
      "1995,  9,      Goddard,      N,   6.08,   4.43\r\n",
      "1996,  9,      Goddard,      N,   7.58,   5.62\r\n",
      "1997,  9,      Goddard,      N,   6.69,   4.89\r\n"
     ]
    }
   ],
   "source": [
    "# how does the file look like?\n",
    "!head -20 nsidc-sea-ice-index-2019/DATASETS/NOAA/G02135/north/monthly/data/N_09_extent_v3.0.csv"
   ]
  },
  {
   "cell_type": "code",
   "execution_count": 6,
   "metadata": {},
   "outputs": [],
   "source": [
    "import csv\n",
    "\n",
    "#-- NH SEPTEMBER\n",
    "NSIDC_NH_SEP_year=np.empty(0)\n",
    "NSIDC_NH_SEP_data=np.empty(0)\n",
    "\n",
    "with open('nsidc-sea-ice-index-2019/DATASETS/NOAA/G02135/north/monthly/data/N_09_extent_v3.0.csv', 'rb') as csvfile:\n",
    "    header = [h.strip() for h in csvfile.next().split(',')] # get rid off the white spaces in keywords\n",
    "    reader = csv.DictReader(csvfile, fieldnames=header, delimiter=',') # these elements become the keys of the resulting dictionary\n",
    "    #reader = csv.DictReader(csvfile, delimiter=',') # uses first line for fieldnames by default with white spaces  \n",
    "        \n",
    "    for line in reader:\n",
    "        NSIDC_NH_SEP_data=np.append(NSIDC_NH_SEP_data,float(line['extent']))\n",
    "        NSIDC_NH_SEP_year=np.append(NSIDC_NH_SEP_year,float(line['year'])) "
   ]
  },
  {
   "cell_type": "code",
   "execution_count": 7,
   "metadata": {},
   "outputs": [
    {
     "data": {
      "text/plain": [
       "7.6699999999999999"
      ]
     },
     "execution_count": 7,
     "metadata": {},
     "output_type": "execute_result"
    }
   ],
   "source": [
    "NSIDC_NH_SEP_year\n",
    "extent=NSIDC_NH_SEP_data\n",
    "NSIDC_NH_SEP_data.max()"
   ]
  },
  {
   "cell_type": "code",
   "execution_count": 8,
   "metadata": {},
   "outputs": [
    {
     "data": {
      "text/plain": [
       "<matplotlib.figure.Figure at 0x7f1f0f331c90>"
      ]
     },
     "metadata": {},
     "output_type": "display_data"
    },
    {
     "data": {
      "image/png": "[encoded data removed]",
      "text/plain": [
       "<matplotlib.figure.Figure at 0x7f1f049b0f10>"
      ]
     },
     "metadata": {},
     "output_type": "display_data"
    }
   ],
   "source": [
    "stacked_extent = np.stack((extent, extent))\n",
    "\n",
    "vmin=0\n",
    "vmax=extent.max()\n",
    "\n",
    "## plotting\n",
    "###############\n",
    "\n",
    "plt.figure(figsize=(4,18))\n",
    "# img = plt.imshow(stacked_temps, cmap='RdBu_r', aspect=40, vmin=vmin, vmax=vmax)\n",
    "img = plt.imshow(stacked_extent, cmap='Blues_r', aspect=15, vmin=vmin, vmax=vmax)\n",
    "\n",
    "plt.gca().set_axis_off()\n",
    "plt.subplots_adjust(top = 1, bottom = 0, right = 1, left = 0, hspace = 0, wspace = 0)\n",
    "plt.margins(0,0)\n",
    "plt.gca().xaxis.set_major_locator(plt.NullLocator())\n",
    "plt.gca().yaxis.set_major_locator(plt.NullLocator())\n",
    "\n",
    "plt.show()\n",
    "\n",
    "#plt.savefig(\"meltingstripes_NH09_vmin0.png\", bbox_inches = 'tight', pad_inches = 0, dpi=400)"
   ]
  },
  {
   "cell_type": "code",
   "execution_count": 9,
   "metadata": {},
   "outputs": [
    {
     "data": {
      "image/png": "[encoded data removed]",
      "text/plain": [
       "<matplotlib.figure.Figure at 0x7f1f0f37bc50>"
      ]
     },
     "metadata": {},
     "output_type": "display_data"
    }
   ],
   "source": [
    "stacked_extent = np.stack((extent, extent))\n",
    "\n",
    "vmin=extent.min()\n",
    "vmax=extent.max()\n",
    "\n",
    "## plotting\n",
    "###############\n",
    "\n",
    "plt.figure(figsize=(4,18))\n",
    "# img = plt.imshow(stacked_temps, cmap='RdBu_r', aspect=40, vmin=vmin, vmax=vmax)\n",
    "img = plt.imshow(stacked_extent, cmap='Blues_r', aspect=15, vmin=vmin, vmax=vmax)\n",
    "\n",
    "plt.gca().set_axis_off()\n",
    "plt.subplots_adjust(top = 1, bottom = 0, right = 1, left = 0, hspace = 0, wspace = 0)\n",
    "plt.margins(0,0)\n",
    "plt.gca().xaxis.set_major_locator(plt.NullLocator())\n",
    "plt.gca().yaxis.set_major_locator(plt.NullLocator())\n",
    "\n",
    "plt.show()\n",
    "\n",
    "#plt.savefig(\"meltingstripes_NH09_realvmin.png\", bbox_inches = 'tight', pad_inches = 0, dpi=400)"
   ]
  },
  {
   "cell_type": "code",
   "execution_count": 10,
   "metadata": {},
   "outputs": [
    {
     "data": {
      "text/plain": [
       "3.5699999999999998"
      ]
     },
     "execution_count": 10,
     "metadata": {},
     "output_type": "execute_result"
    }
   ],
   "source": [
    "extent.min()"
   ]
  },
  {
   "cell_type": "code",
   "execution_count": null,
   "metadata": {
    "collapsed": true
   },
   "outputs": [],
   "source": []
  },
  {
   "cell_type": "markdown",
   "metadata": {},
   "source": [
    "### now get the AWI sea ice portal data"
   ]
  },
  {
   "cell_type": "code",
   "execution_count": 20,
   "metadata": {},
   "outputs": [
    {
     "name": "stdout",
     "output_type": "stream",
     "text": [
      "2019-04-18 11:55:15 URL:http://mep-datasrv1.awi.de/download/monthmean/tab_extent_mittel_09_n.txt [640/640] -> \"AWI-sea-ice-portal-2019/download/monthmean/tab_extent_mittel_09_n.txt\" [1]\r\n",
      "BEENDET --2019-04-18 11:55:15--\r\n",
      "Geholt: 1 Dateien, 640 in 0s (1192 GB/s)\r\n"
     ]
    }
   ],
   "source": [
    "# Northern Hemisphere\n",
    "!wget -nv --mirror --no-host-directories --user=anonymous --password=anonymous -P AWI-sea-ice-portal-2019 http://mep-datasrv1.awi.de/download/monthmean/tab_extent_mittel_09_n.txt "
   ]
  },
  {
   "cell_type": "code",
   "execution_count": 24,
   "metadata": {},
   "outputs": [
    {
     "name": "stdout",
     "output_type": "stream",
     "text": [
      "1979; 7084280.7\r\n",
      "1980; 7705765.0\r\n",
      "1981; 7164405.7\r\n",
      "1982; 7330477.0\r\n",
      "1983; 7414369.7\r\n",
      "1984; 6888417.3\r\n",
      "1985; 6727139.3\r\n",
      "1986; 7424643.0\r\n",
      "1987; 7278088.0\r\n",
      "1988; 7372253.0\r\n",
      "1989; 7006209.0\r\n",
      "1990; 6126882.7\r\n",
      "1991; 6464164.0\r\n",
      "1992; 7472581.0\r\n",
      "1993; 6374450.7\r\n",
      "1994; 7128452.0\r\n",
      "1995; 6058400.0\r\n",
      "1996; 7580099.7\r\n",
      "1997; 6674749.0\r\n",
      "1998; 6518607.0\r\n"
     ]
    }
   ],
   "source": [
    "# how does the file look like?\n",
    "!head -20 AWI-sea-ice-portal-2019/download/monthmean/tab_extent_mittel_09_n.txt"
   ]
  },
  {
   "cell_type": "code",
   "execution_count": 11,
   "metadata": {
    "collapsed": true
   },
   "outputs": [],
   "source": [
    "AWIdata = np.loadtxt(\"AWI-sea-ice-portal-2019/download/monthmean/tab_extent_mittel_09_n.txt\", delimiter=\";\", usecols = (0,1))"
   ]
  },
  {
   "cell_type": "code",
   "execution_count": 12,
   "metadata": {
    "collapsed": true
   },
   "outputs": [],
   "source": [
    "extent=AWIdata[:,1]/10**6 # million km2"
   ]
  },
  {
   "cell_type": "code",
   "execution_count": 13,
   "metadata": {},
   "outputs": [
    {
     "data": {
      "image/png": "[encoded data removed]",
      "text/plain": [
       "<matplotlib.figure.Figure at 0x7f1f0f412990>"
      ]
     },
     "metadata": {},
     "output_type": "display_data"
    }
   ],
   "source": [
    "stacked_extent = np.stack((extent, extent))\n",
    "\n",
    "vmin=0\n",
    "vmax=extent.max()\n",
    "\n",
    "## plotting\n",
    "###############\n",
    "\n",
    "plt.figure(figsize=(4,18))\n",
    "# img = plt.imshow(stacked_temps, cmap='RdBu_r', aspect=40, vmin=vmin, vmax=vmax)\n",
    "img = plt.imshow(stacked_extent, cmap='Blues_r', aspect=15, vmin=vmin, vmax=vmax)\n",
    "\n",
    "plt.gca().set_axis_off()\n",
    "plt.subplots_adjust(top = 1, bottom = 0, right = 1, left = 0, hspace = 0, wspace = 0)\n",
    "plt.margins(0,0)\n",
    "plt.gca().xaxis.set_major_locator(plt.NullLocator())\n",
    "plt.gca().yaxis.set_major_locator(plt.NullLocator())\n",
    "\n",
    "plt.show()\n",
    "\n",
    "#plt.savefig(\"AWI_meltingstripes_NH09_vmin0.png\", bbox_inches = 'tight', pad_inches = 0, dpi=400)"
   ]
  },
  {
   "cell_type": "code",
   "execution_count": 14,
   "metadata": {},
   "outputs": [
    {
     "data": {
      "image/png": "[encoded data removed]",
      "text/plain": [
       "<matplotlib.figure.Figure at 0x7f1f3458a350>"
      ]
     },
     "metadata": {},
     "output_type": "display_data"
    }
   ],
   "source": [
    "stacked_extent = np.stack((extent, extent))\n",
    "\n",
    "vmin=extent.min()\n",
    "vmax=extent.max()\n",
    "\n",
    "## plotting\n",
    "###############\n",
    "\n",
    "plt.figure(figsize=(4,18))\n",
    "# img = plt.imshow(stacked_temps, cmap='RdBu_r', aspect=40, vmin=vmin, vmax=vmax)\n",
    "img = plt.imshow(stacked_extent, cmap='Blues_r', aspect=15, vmin=vmin, vmax=vmax)\n",
    "\n",
    "plt.gca().set_axis_off()\n",
    "plt.subplots_adjust(top = 1, bottom = 0, right = 1, left = 0, hspace = 0, wspace = 0)\n",
    "plt.margins(0,0)\n",
    "plt.gca().xaxis.set_major_locator(plt.NullLocator())\n",
    "plt.gca().yaxis.set_major_locator(plt.NullLocator())\n",
    "\n",
    "plt.show()\n",
    "\n",
    "#plt.savefig(\"AWI_meltingstripes_NH09_realvmin.png\", bbox_inches = 'tight', pad_inches = 0, dpi=400)"
   ]
  },
  {
   "cell_type": "code",
   "execution_count": 15,
   "metadata": {},
   "outputs": [
    {
     "data": {
      "text/plain": [
       "(3.4878372999999998, 7.7057650000000004)"
      ]
     },
     "execution_count": 15,
     "metadata": {},
     "output_type": "execute_result"
    }
   ],
   "source": [
    "extent.min(), extent.max()"
   ]
  },
  {
   "cell_type": "markdown",
   "metadata": {
    "collapsed": true
   },
   "source": [
    "#### Add a colorbar for internal use"
   ]
  },
  {
   "cell_type": "code",
   "execution_count": 96,
   "metadata": {},
   "outputs": [
    {
     "data": {
      "image/png": "[encoded data removed]",
      "text/plain": [
       "<matplotlib.figure.Figure at 0x7f1f0402e410>"
      ]
     },
     "metadata": {},
     "output_type": "display_data"
    }
   ],
   "source": [
    "stacked_extent = np.stack((extent, extent))\n",
    "\n",
    "vmin=extent.min()\n",
    "vmax=extent.max()\n",
    "\n",
    "## plotting\n",
    "###############\n",
    "\n",
    "fig=plt.figure(figsize=(4,5))\n",
    "ax1 = plt.imshow(stacked_extent, cmap='Blues_r', aspect=15, vmin=vmin, vmax=vmax)\n",
    "plt.title(\"Arctic Sea Ice Extent (September 1979-2018)\",fontsize=12)\n",
    "\n",
    "plt.gca().set_axis_off()\n",
    "plt.subplots_adjust(top = 1, bottom = 0, right = 1, left = 0, hspace = 0, wspace = 0)\n",
    "plt.margins(0,0)\n",
    "plt.gca().xaxis.set_major_locator(plt.NullLocator())\n",
    "plt.gca().yaxis.set_major_locator(plt.NullLocator())\n",
    "\n",
    "# Now adding the colorbar\n",
    "cbaxes = fig.add_axes([0.015, 0.05, 0.97, 0.1]) # left, top, width, height\n",
    "cb = plt.colorbar(ax1, cax = cbaxes, orientation='horizontal')  \n",
    "plt.text(0.4,0.3,'million km$^2$',fontsize=12)\n",
    "\n",
    "plt.show()\n",
    "\n",
    "#plt.savefig(\"AWI_meltingstripes_NH09_colorbar.png\", bbox_inches = 'tight', pad_inches = 0, dpi=400)"
   ]
  },
  {
   "cell_type": "markdown",
   "metadata": {},
   "source": [
    "#### Meanwhile in Antarctica..."
   ]
  },
  {
   "cell_type": "code",
   "execution_count": 98,
   "metadata": {},
   "outputs": [
    {
     "name": "stdout",
     "output_type": "stream",
     "text": [
      "2019-04-29 11:05:56 URL:http://mep-datasrv1.awi.de/download/monthmean/tab_extent_mittel_09_s.txt [640/640] -> \"AWI-sea-ice-portal-2019/download/monthmean/tab_extent_mittel_09_s.txt\" [1]\r\n",
      "BEENDET --2019-04-29 11:05:56--\r\n",
      "Geholt: 1 Dateien, 640 in 0s (1192 GB/s)\r\n"
     ]
    }
   ],
   "source": [
    "# Southern Hemisphere\n",
    "!wget -nv --mirror --no-host-directories --user=anonymous --password=anonymous -P AWI-sea-ice-portal-2019 http://mep-datasrv1.awi.de/download/monthmean/tab_extent_mittel_09_s.txt "
   ]
  },
  {
   "cell_type": "code",
   "execution_count": 99,
   "metadata": {},
   "outputs": [],
   "source": [
    "AWIdata_S = np.loadtxt(\"AWI-sea-ice-portal-2019/download/monthmean/tab_extent_mittel_09_s.txt\", delimiter=\";\", usecols = (0,1))"
   ]
  },
  {
   "cell_type": "code",
   "execution_count": 100,
   "metadata": {
    "collapsed": true
   },
   "outputs": [],
   "source": [
    "extent_S=AWIdata_S[:,1]/10**6 # million km2"
   ]
  },
  {
   "cell_type": "code",
   "execution_count": 114,
   "metadata": {},
   "outputs": [
    {
     "data": {
      "image/png": "[encoded data removed]",
      "text/plain": [
       "<matplotlib.figure.Figure at 0x7f1efbfc8ad0>"
      ]
     },
     "metadata": {},
     "output_type": "display_data"
    }
   ],
   "source": [
    "stacked_extent = np.stack((extent_S, extent_S))\n",
    "\n",
    "vmin=extent_S.min()\n",
    "vmax=19.0 # shows more details than extent_S.max()\n",
    "\n",
    "## plotting\n",
    "###############\n",
    "\n",
    "fig=plt.figure(figsize=(4,5))\n",
    "ax1 = plt.imshow(stacked_extent, cmap='Blues_r', aspect=15, vmin=vmin, vmax=vmax)\n",
    "plt.title(\"Antarctic Sea Ice Extent (September 1979-2018)\",fontsize=12)\n",
    "\n",
    "plt.gca().set_axis_off()\n",
    "plt.subplots_adjust(top = 1, bottom = 0, right = 1, left = 0, hspace = 0, wspace = 0)\n",
    "plt.margins(0,0)\n",
    "plt.gca().xaxis.set_major_locator(plt.NullLocator())\n",
    "plt.gca().yaxis.set_major_locator(plt.NullLocator())\n",
    "\n",
    "# Now adding the colorbar\n",
    "cbaxes = fig.add_axes([0.015, 0.05, 0.97, 0.1]) # left, top, width, height\n",
    "cb = plt.colorbar(ax1, cax = cbaxes, orientation='horizontal')  \n",
    "plt.text(0.4,0.3,'million km$^2$',fontsize=12)\n",
    "\n",
    "plt.show()\n",
    "\n",
    "#plt.savefig(\"AWI_meltingstripes_SH09_colorbar.png\", bbox_inches = 'tight', pad_inches = 0, dpi=400)"
   ]
  }
 ],
 "metadata": {
  "kernelspec": {
   "display_name": "Python 2",
   "language": "python",
   "name": "python2"
  },
  "language_info": {
   "codemirror_mode": {
    "name": "ipython",
    "version": 2
   },
   "file_extension": ".py",
   "mimetype": "text/x-python",
   "name": "python",
   "nbconvert_exporter": "python",
   "pygments_lexer": "ipython2",
   "version": "2.7.13"
  }
 },
 "nbformat": 4,
 "nbformat_minor": 2
}
